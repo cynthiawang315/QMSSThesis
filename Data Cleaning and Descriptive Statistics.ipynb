{
 "cells": [
  {
   "cell_type": "markdown",
   "metadata": {},
   "source": [
    "# Cleaning"
   ]
  },
  {
   "cell_type": "code",
   "execution_count": 21,
   "metadata": {},
   "outputs": [],
   "source": [
    "import numpy as np\n",
    "import pandas as pd\n",
    "data = pd.read_csv(\"import.csv\")"
   ]
  },
  {
   "cell_type": "code",
   "execution_count": 22,
   "metadata": {},
   "outputs": [],
   "source": [
    "data = data.drop(columns=\"Unnamed: 0\")\n",
    "adult = data.loc[data['adult_depression'] == 1.0]"
   ]
  },
  {
   "cell_type": "code",
   "execution_count": 23,
   "metadata": {},
   "outputs": [
    {
     "data": {
      "text/plain": [
       "0    1992\n",
       "1    1939\n",
       "Name: adult_think, dtype: int64"
      ]
     },
     "execution_count": 23,
     "metadata": {},
     "output_type": "execute_result"
    }
   ],
   "source": [
    "# cleaning adult df\n",
    "adult_clean = adult[(adult.adult_think != 97)&(adult.adult_plan != 97)&(adult.adult_attempt != 97)&(adult.adult_attempt != 94)]\n",
    "adult_clean.loc[adult_clean['adult_think'] == 2, 'adult_think'] = 0\n",
    "adult_clean.loc[adult_clean['adult_plan'] == 2, 'adult_plan'] = 0\n",
    "adult_clean.loc[adult_clean['adult_plan'] == 99, 'adult_plan'] = 0\n",
    "adult_clean.loc[adult_clean['adult_attempt'] == 2, 'adult_attempt'] = 0\n",
    "adult_clean.loc[adult_clean['adult_attempt'] == 99, 'adult_attempt'] = 0\n",
    "adult_clean['adult_think'].value_counts()"
   ]
  },
  {
   "cell_type": "code",
   "execution_count": 24,
   "metadata": {},
   "outputs": [
    {
     "data": {
      "text/plain": [
       "0    3173\n",
       "1     758\n",
       "Name: adult_plan, dtype: int64"
      ]
     },
     "execution_count": 24,
     "metadata": {},
     "output_type": "execute_result"
    }
   ],
   "source": [
    "adult_clean['adult_plan'].value_counts()"
   ]
  },
  {
   "cell_type": "code",
   "execution_count": 25,
   "metadata": {},
   "outputs": [
    {
     "data": {
      "text/plain": [
       "0    3456\n",
       "1     475\n",
       "Name: adult_attempt, dtype: int64"
      ]
     },
     "execution_count": 25,
     "metadata": {},
     "output_type": "execute_result"
    }
   ],
   "source": [
    "adult_clean['adult_attempt'].value_counts()"
   ]
  },
  {
   "cell_type": "code",
   "execution_count": 26,
   "metadata": {},
   "outputs": [],
   "source": [
    "adult_clean = adult_clean.drop(columns=['youth_think', 'youth_plan','youth_attempt','adult_depression','youth_depression'])\n",
    "adult_clean = adult_clean.rename(columns={\"adult_think\": \"think\", \"adult_plan\": \"plan\", \"adult_attempt\": \"attempt\"})"
   ]
  },
  {
   "cell_type": "code",
   "execution_count": 27,
   "metadata": {},
   "outputs": [],
   "source": [
    "# cleaning adolescent df (answer 97 or 94)\n",
    "adolescent = data.loc[data['youth_depression'] == 1.0]\n",
    "adolescent_clean = adolescent[(adolescent.youth_think != 97)&(adolescent.youth_think != 94)&\n",
    "                             (adolescent.youth_plan != 97)&(adolescent.youth_plan != 94)&\n",
    "                             (adolescent.youth_attempt != 97)]"
   ]
  },
  {
   "cell_type": "code",
   "execution_count": 28,
   "metadata": {},
   "outputs": [
    {
     "data": {
      "text/plain": [
       "1    1193\n",
       "0     631\n",
       "Name: youth_think, dtype: int64"
      ]
     },
     "execution_count": 28,
     "metadata": {},
     "output_type": "execute_result"
    }
   ],
   "source": [
    "adolescent_clean.loc[adolescent_clean['marital_status'] == 99, 'marital_status'] = 4\n",
    "adolescent_clean.loc[adolescent_clean['youth_think'] == 2, 'youth_think'] = 0\n",
    "adolescent_clean.loc[adolescent_clean['youth_plan'] == 2, 'youth_plan'] = 0\n",
    "adolescent_clean.loc[adolescent_clean['youth_plan'] == 99, 'youth_plan'] = 0\n",
    "adolescent_clean.loc[adolescent_clean['youth_attempt'] == 2, 'youth_attempt'] = 0\n",
    "adolescent_clean.loc[adolescent_clean['youth_attempt'] == 99, 'youth_attempt'] = 0\n",
    "adolescent_clean['youth_think'].value_counts()"
   ]
  },
  {
   "cell_type": "code",
   "execution_count": 29,
   "metadata": {},
   "outputs": [
    {
     "data": {
      "text/plain": [
       "0    1214\n",
       "1     610\n",
       "Name: youth_plan, dtype: int64"
      ]
     },
     "execution_count": 29,
     "metadata": {},
     "output_type": "execute_result"
    }
   ],
   "source": [
    "adolescent_clean['youth_plan'].value_counts()"
   ]
  },
  {
   "cell_type": "code",
   "execution_count": 30,
   "metadata": {},
   "outputs": [
    {
     "data": {
      "text/plain": [
       "0    1401\n",
       "1     423\n",
       "Name: youth_attempt, dtype: int64"
      ]
     },
     "execution_count": 30,
     "metadata": {},
     "output_type": "execute_result"
    }
   ],
   "source": [
    "adolescent_clean['youth_attempt'].value_counts()"
   ]
  },
  {
   "cell_type": "code",
   "execution_count": 31,
   "metadata": {},
   "outputs": [],
   "source": [
    "adolescent_clean = adolescent_clean.drop(columns=['adult_think', 'adult_plan','adult_attempt','adult_depression','youth_depression'])\n",
    "adolescent_clean = adolescent_clean.rename(columns={\"youth_think\": \"think\", \"youth_plan\": \"plan\", \"youth_attempt\": \"attempt\"})"
   ]
  },
  {
   "cell_type": "code",
   "execution_count": 32,
   "metadata": {},
   "outputs": [],
   "source": [
    "# combine adult and adolescent\n",
    "df = pd.concat([adolescent_clean,adult_clean])\n",
    "df.loc[df['gender'] == 2, 'gender'] = 0\n",
    "df.to_csv(\"CleanData.csv\")"
   ]
  },
  {
   "cell_type": "markdown",
   "metadata": {},
   "source": [
    "# Demographics"
   ]
  },
  {
   "cell_type": "code",
   "execution_count": 75,
   "metadata": {},
   "outputs": [
    {
     "data": {
      "text/plain": [
       "2    0.318679\n",
       "1    0.316942\n",
       "3    0.146829\n",
       "4    0.141964\n",
       "5    0.075586\n",
       "Name: age_group, dtype: float64"
      ]
     },
     "execution_count": 75,
     "metadata": {},
     "output_type": "execute_result"
    }
   ],
   "source": [
    "df[\"age_group\"].value_counts()/5755"
   ]
  },
  {
   "cell_type": "code",
   "execution_count": 76,
   "metadata": {},
   "outputs": [
    {
     "data": {
      "text/plain": [
       "0    0.674891\n",
       "1    0.325109\n",
       "Name: gender, dtype: float64"
      ]
     },
     "execution_count": 76,
     "metadata": {},
     "output_type": "execute_result"
    }
   ],
   "source": [
    "df[\"gender\"].value_counts()/5755"
   ]
  },
  {
   "cell_type": "code",
   "execution_count": 77,
   "metadata": {},
   "outputs": [
    {
     "data": {
      "text/plain": [
       "5    0.316942\n",
       "3    0.288097\n",
       "2    0.169418\n",
       "4    0.152911\n",
       "1    0.072632\n",
       "Name: education, dtype: float64"
      ]
     },
     "execution_count": 77,
     "metadata": {},
     "output_type": "execute_result"
    }
   ],
   "source": [
    "df[\"education\"].value_counts()/5755"
   ]
  },
  {
   "cell_type": "code",
   "execution_count": 78,
   "metadata": {},
   "outputs": [
    {
     "data": {
      "text/plain": [
       "7    0.324414\n",
       "6    0.153953\n",
       "2    0.122502\n",
       "3    0.110165\n",
       "4    0.100608\n",
       "5    0.098002\n",
       "1    0.090356\n",
       "Name: total_fam_income, dtype: float64"
      ]
     },
     "execution_count": 78,
     "metadata": {},
     "output_type": "execute_result"
    }
   ],
   "source": [
    "df[\"total_fam_income\"].value_counts()/5755"
   ]
  },
  {
   "cell_type": "code",
   "execution_count": 79,
   "metadata": {},
   "outputs": [
    {
     "data": {
      "text/plain": [
       "4    0.732233\n",
       "1    0.169939\n",
       "3    0.083927\n",
       "2    0.013901\n",
       "Name: marital_status, dtype: float64"
      ]
     },
     "execution_count": 79,
     "metadata": {},
     "output_type": "execute_result"
    }
   ],
   "source": [
    "df[\"marital_status\"].value_counts()/5755"
   ]
  },
  {
   "cell_type": "markdown",
   "metadata": {},
   "source": [
    "# Substance use disorder"
   ]
  },
  {
   "cell_type": "code",
   "execution_count": 84,
   "metadata": {},
   "outputs": [
    {
     "data": {
      "text/plain": [
       "nicotine             0.119896\n",
       "alcohol              0.082884\n",
       "marijuana            0.052997\n",
       "cocaine              0.008862\n",
       "heroin               0.006255\n",
       "hallucinogen         0.003301\n",
       "inhalant             0.001216\n",
       "methamphetamine      0.013206\n",
       "pain_reliever        0.018245\n",
       "tranquilizer         0.010773\n",
       "stimulant            0.011816\n",
       "psychotherapeutic    0.033884\n",
       "dtype: float64"
      ]
     },
     "execution_count": 84,
     "metadata": {},
     "output_type": "execute_result"
    }
   ],
   "source": [
    "df.loc[:,'nicotine':'psychotherapeutic'].sum()/5755"
   ]
  },
  {
   "cell_type": "code",
   "execution_count": 19,
   "metadata": {},
   "outputs": [
    {
     "data": {
      "text/html": [
       "<div>\n",
       "<style scoped>\n",
       "    .dataframe tbody tr th:only-of-type {\n",
       "        vertical-align: middle;\n",
       "    }\n",
       "\n",
       "    .dataframe tbody tr th {\n",
       "        vertical-align: top;\n",
       "    }\n",
       "\n",
       "    .dataframe thead th {\n",
       "        text-align: right;\n",
       "    }\n",
       "</style>\n",
       "<table border=\"1\" class=\"dataframe\">\n",
       "  <thead>\n",
       "    <tr style=\"text-align: right;\">\n",
       "      <th></th>\n",
       "      <th>nicotine</th>\n",
       "      <th>alcohol</th>\n",
       "      <th>marijuana</th>\n",
       "      <th>cocaine</th>\n",
       "      <th>heroin</th>\n",
       "      <th>hallucinogen</th>\n",
       "      <th>inhalant</th>\n",
       "      <th>methamphetamine</th>\n",
       "      <th>pain_reliever</th>\n",
       "      <th>tranquilizer</th>\n",
       "      <th>stimulant</th>\n",
       "      <th>psychotherapeutic</th>\n",
       "    </tr>\n",
       "    <tr>\n",
       "      <th>age_group</th>\n",
       "      <th></th>\n",
       "      <th></th>\n",
       "      <th></th>\n",
       "      <th></th>\n",
       "      <th></th>\n",
       "      <th></th>\n",
       "      <th></th>\n",
       "      <th></th>\n",
       "      <th></th>\n",
       "      <th></th>\n",
       "      <th></th>\n",
       "      <th></th>\n",
       "    </tr>\n",
       "  </thead>\n",
       "  <tbody>\n",
       "    <tr>\n",
       "      <td>1</td>\n",
       "      <td>35</td>\n",
       "      <td>47</td>\n",
       "      <td>60</td>\n",
       "      <td>1</td>\n",
       "      <td>1</td>\n",
       "      <td>3</td>\n",
       "      <td>3</td>\n",
       "      <td>1</td>\n",
       "      <td>23</td>\n",
       "      <td>10</td>\n",
       "      <td>16</td>\n",
       "      <td>37</td>\n",
       "    </tr>\n",
       "    <tr>\n",
       "      <td>2</td>\n",
       "      <td>197</td>\n",
       "      <td>199</td>\n",
       "      <td>172</td>\n",
       "      <td>23</td>\n",
       "      <td>15</td>\n",
       "      <td>7</td>\n",
       "      <td>2</td>\n",
       "      <td>24</td>\n",
       "      <td>32</td>\n",
       "      <td>27</td>\n",
       "      <td>29</td>\n",
       "      <td>73</td>\n",
       "    </tr>\n",
       "    <tr>\n",
       "      <td>3</td>\n",
       "      <td>176</td>\n",
       "      <td>102</td>\n",
       "      <td>49</td>\n",
       "      <td>13</td>\n",
       "      <td>13</td>\n",
       "      <td>4</td>\n",
       "      <td>1</td>\n",
       "      <td>21</td>\n",
       "      <td>22</td>\n",
       "      <td>10</td>\n",
       "      <td>11</td>\n",
       "      <td>40</td>\n",
       "    </tr>\n",
       "    <tr>\n",
       "      <td>4</td>\n",
       "      <td>196</td>\n",
       "      <td>93</td>\n",
       "      <td>22</td>\n",
       "      <td>10</td>\n",
       "      <td>6</td>\n",
       "      <td>4</td>\n",
       "      <td>0</td>\n",
       "      <td>23</td>\n",
       "      <td>17</td>\n",
       "      <td>10</td>\n",
       "      <td>9</td>\n",
       "      <td>32</td>\n",
       "    </tr>\n",
       "    <tr>\n",
       "      <td>5</td>\n",
       "      <td>86</td>\n",
       "      <td>36</td>\n",
       "      <td>2</td>\n",
       "      <td>4</td>\n",
       "      <td>1</td>\n",
       "      <td>1</td>\n",
       "      <td>1</td>\n",
       "      <td>7</td>\n",
       "      <td>11</td>\n",
       "      <td>5</td>\n",
       "      <td>3</td>\n",
       "      <td>13</td>\n",
       "    </tr>\n",
       "  </tbody>\n",
       "</table>\n",
       "</div>"
      ],
      "text/plain": [
       "           nicotine  alcohol  marijuana  cocaine  heroin  hallucinogen  \\\n",
       "age_group                                                                \n",
       "1                35       47         60        1       1             3   \n",
       "2               197      199        172       23      15             7   \n",
       "3               176      102         49       13      13             4   \n",
       "4               196       93         22       10       6             4   \n",
       "5                86       36          2        4       1             1   \n",
       "\n",
       "           inhalant  methamphetamine  pain_reliever  tranquilizer  stimulant  \\\n",
       "age_group                                                                      \n",
       "1                 3                1             23            10         16   \n",
       "2                 2               24             32            27         29   \n",
       "3                 1               21             22            10         11   \n",
       "4                 0               23             17            10          9   \n",
       "5                 1                7             11             5          3   \n",
       "\n",
       "           psychotherapeutic  \n",
       "age_group                     \n",
       "1                         37  \n",
       "2                         73  \n",
       "3                         40  \n",
       "4                         32  \n",
       "5                         13  "
      ]
     },
     "execution_count": 19,
     "metadata": {},
     "output_type": "execute_result"
    }
   ],
   "source": [
    "df_group = df.groupby(['age_group']).sum()\n",
    "df_group_drug = df_group.loc[:,'nicotine':'psychotherapeutic']\n",
    "df_group_drug"
   ]
  },
  {
   "cell_type": "code",
   "execution_count": 30,
   "metadata": {},
   "outputs": [
    {
     "data": {
      "text/plain": [
       "nicotine             35\n",
       "alcohol              47\n",
       "marijuana            60\n",
       "cocaine               1\n",
       "heroin                1\n",
       "hallucinogen          3\n",
       "inhalant              3\n",
       "methamphetamine       1\n",
       "pain_reliever        23\n",
       "tranquilizer         10\n",
       "stimulant            16\n",
       "psychotherapeutic    37\n",
       "dtype: int64"
      ]
     },
     "execution_count": 30,
     "metadata": {},
     "output_type": "execute_result"
    }
   ],
   "source": [
    "# drug use percentage - adolescents\n",
    "adolescent_drug = adolescent_clean.loc[:,'nicotine':'psychotherapeutic']\n",
    "adolescent_drug.sum()"
   ]
  },
  {
   "cell_type": "code",
   "execution_count": 34,
   "metadata": {},
   "outputs": [
    {
     "data": {
      "text/plain": [
       "nicotine             0.019189\n",
       "alcohol              0.025768\n",
       "marijuana            0.032895\n",
       "cocaine              0.000548\n",
       "heroin               0.000548\n",
       "hallucinogen         0.001645\n",
       "inhalant             0.001645\n",
       "methamphetamine      0.000548\n",
       "pain_reliever        0.012610\n",
       "tranquilizer         0.005482\n",
       "stimulant            0.008772\n",
       "psychotherapeutic    0.020285\n",
       "dtype: float64"
      ]
     },
     "execution_count": 34,
     "metadata": {},
     "output_type": "execute_result"
    }
   ],
   "source": [
    "adolescent_drug.sum()/adolescent_drug.count()"
   ]
  },
  {
   "cell_type": "code",
   "execution_count": 36,
   "metadata": {},
   "outputs": [
    {
     "data": {
      "text/plain": [
       "nicotine             1824\n",
       "alcohol              1824\n",
       "marijuana            1824\n",
       "cocaine              1824\n",
       "heroin               1824\n",
       "hallucinogen         1824\n",
       "inhalant             1824\n",
       "methamphetamine      1824\n",
       "pain_reliever        1824\n",
       "tranquilizer         1824\n",
       "stimulant            1824\n",
       "psychotherapeutic    1824\n",
       "dtype: int64"
      ]
     },
     "execution_count": 36,
     "metadata": {},
     "output_type": "execute_result"
    }
   ],
   "source": [
    "adolescent_drug.count()"
   ]
  },
  {
   "cell_type": "code",
   "execution_count": 21,
   "metadata": {},
   "outputs": [
    {
     "data": {
      "text/plain": [
       "nicotine             0.166624\n",
       "alcohol              0.109387\n",
       "marijuana            0.062325\n",
       "cocaine              0.012719\n",
       "heroin               0.008904\n",
       "hallucinogen         0.004070\n",
       "inhalant             0.001018\n",
       "methamphetamine      0.019079\n",
       "pain_reliever        0.020860\n",
       "tranquilizer         0.013228\n",
       "stimulant            0.013228\n",
       "psychotherapeutic    0.040193\n",
       "dtype: float64"
      ]
     },
     "execution_count": 21,
     "metadata": {},
     "output_type": "execute_result"
    }
   ],
   "source": [
    "# drug use percentage - adults\n",
    "adult_drug= adult_clean.loc[:,'nicotine':'psychotherapeutic']\n",
    "adult_drug.sum()/adult_drug.count()"
   ]
  },
  {
   "cell_type": "code",
   "execution_count": 23,
   "metadata": {},
   "outputs": [
    {
     "data": {
      "text/plain": [
       "nicotine             0.107415\n",
       "alcohol              0.108506\n",
       "marijuana            0.093784\n",
       "cocaine              0.012541\n",
       "heroin               0.008179\n",
       "hallucinogen         0.003817\n",
       "inhalant             0.001091\n",
       "methamphetamine      0.013086\n",
       "pain_reliever        0.017448\n",
       "tranquilizer         0.014722\n",
       "stimulant            0.015812\n",
       "psychotherapeutic    0.039804\n",
       "dtype: float64"
      ]
     },
     "execution_count": 23,
     "metadata": {},
     "output_type": "execute_result"
    }
   ],
   "source": [
    "# drug use percentage - adults (18-25)\n",
    "\n",
    "age_group_2 = dict(tuple(adult_clean.groupby('age_group')))[2]\n",
    "age_group_2_drug = age_group_2.loc[:,'nicotine':'psychotherapeutic']\n",
    "age_group_2_drug.sum()/age_group_2_drug.count()"
   ]
  },
  {
   "cell_type": "code",
   "execution_count": 24,
   "metadata": {},
   "outputs": [
    {
     "data": {
      "text/plain": [
       "nicotine             0.208284\n",
       "alcohol              0.120710\n",
       "marijuana            0.057988\n",
       "cocaine              0.015385\n",
       "heroin               0.015385\n",
       "hallucinogen         0.004734\n",
       "inhalant             0.001183\n",
       "methamphetamine      0.024852\n",
       "pain_reliever        0.026036\n",
       "tranquilizer         0.011834\n",
       "stimulant            0.013018\n",
       "psychotherapeutic    0.047337\n",
       "dtype: float64"
      ]
     },
     "execution_count": 24,
     "metadata": {},
     "output_type": "execute_result"
    }
   ],
   "source": [
    "# drug use percentage - adults (26-34)\n",
    "\n",
    "age_group_3 = dict(tuple(adult_clean.groupby('age_group')))[3]\n",
    "age_group_3_drug = age_group_3.loc[:,'nicotine':'psychotherapeutic']\n",
    "age_group_3_drug.sum()/age_group_3_drug.count()"
   ]
  },
  {
   "cell_type": "code",
   "execution_count": 25,
   "metadata": {},
   "outputs": [
    {
     "data": {
      "text/plain": [
       "nicotine             0.239902\n",
       "alcohol              0.113831\n",
       "marijuana            0.026928\n",
       "cocaine              0.012240\n",
       "heroin               0.007344\n",
       "hallucinogen         0.004896\n",
       "inhalant             0.000000\n",
       "methamphetamine      0.028152\n",
       "pain_reliever        0.020808\n",
       "tranquilizer         0.012240\n",
       "stimulant            0.011016\n",
       "psychotherapeutic    0.039168\n",
       "dtype: float64"
      ]
     },
     "execution_count": 25,
     "metadata": {},
     "output_type": "execute_result"
    }
   ],
   "source": [
    "# drug use percentage - adults (35-49)\n",
    "\n",
    "age_group_4 = dict(tuple(adult_clean.groupby('age_group')))[4]\n",
    "age_group_4_drug = age_group_4.loc[:,'nicotine':'psychotherapeutic']\n",
    "age_group_4_drug.sum()/age_group_4_drug.count()"
   ]
  },
  {
   "cell_type": "code",
   "execution_count": 26,
   "metadata": {},
   "outputs": [
    {
     "data": {
      "text/plain": [
       "nicotine             0.197701\n",
       "alcohol              0.082759\n",
       "marijuana            0.004598\n",
       "cocaine              0.009195\n",
       "heroin               0.002299\n",
       "hallucinogen         0.002299\n",
       "inhalant             0.002299\n",
       "methamphetamine      0.016092\n",
       "pain_reliever        0.025287\n",
       "tranquilizer         0.011494\n",
       "stimulant            0.006897\n",
       "psychotherapeutic    0.029885\n",
       "dtype: float64"
      ]
     },
     "execution_count": 26,
     "metadata": {},
     "output_type": "execute_result"
    }
   ],
   "source": [
    "# drug use percentage - adults (50+)\n",
    "\n",
    "age_group_5 = dict(tuple(adult_clean.groupby('age_group')))[5]\n",
    "age_group_5_drug = age_group_5.loc[:,'nicotine':'psychotherapeutic']\n",
    "age_group_5_drug.sum()/age_group_5_drug.count()"
   ]
  },
  {
   "cell_type": "markdown",
   "metadata": {},
   "source": [
    "# Suicidal behavior"
   ]
  },
  {
   "cell_type": "code",
   "execution_count": 45,
   "metadata": {},
   "outputs": [
    {
     "data": {
      "text/html": [
       "<div>\n",
       "<style scoped>\n",
       "    .dataframe tbody tr th:only-of-type {\n",
       "        vertical-align: middle;\n",
       "    }\n",
       "\n",
       "    .dataframe tbody tr th {\n",
       "        vertical-align: top;\n",
       "    }\n",
       "\n",
       "    .dataframe thead th {\n",
       "        text-align: right;\n",
       "    }\n",
       "</style>\n",
       "<table border=\"1\" class=\"dataframe\">\n",
       "  <thead>\n",
       "    <tr style=\"text-align: right;\">\n",
       "      <th></th>\n",
       "      <th>think</th>\n",
       "      <th>plan</th>\n",
       "      <th>attempt</th>\n",
       "    </tr>\n",
       "    <tr>\n",
       "      <th>age_group</th>\n",
       "      <th></th>\n",
       "      <th></th>\n",
       "      <th></th>\n",
       "    </tr>\n",
       "  </thead>\n",
       "  <tbody>\n",
       "    <tr>\n",
       "      <td>1</td>\n",
       "      <td>1193</td>\n",
       "      <td>610</td>\n",
       "      <td>423</td>\n",
       "    </tr>\n",
       "    <tr>\n",
       "      <td>2</td>\n",
       "      <td>1040</td>\n",
       "      <td>440</td>\n",
       "      <td>275</td>\n",
       "    </tr>\n",
       "    <tr>\n",
       "      <td>3</td>\n",
       "      <td>397</td>\n",
       "      <td>142</td>\n",
       "      <td>94</td>\n",
       "    </tr>\n",
       "    <tr>\n",
       "      <td>4</td>\n",
       "      <td>345</td>\n",
       "      <td>120</td>\n",
       "      <td>74</td>\n",
       "    </tr>\n",
       "    <tr>\n",
       "      <td>5</td>\n",
       "      <td>157</td>\n",
       "      <td>56</td>\n",
       "      <td>32</td>\n",
       "    </tr>\n",
       "  </tbody>\n",
       "</table>\n",
       "</div>"
      ],
      "text/plain": [
       "           think  plan  attempt\n",
       "age_group                      \n",
       "1           1193   610      423\n",
       "2           1040   440      275\n",
       "3            397   142       94\n",
       "4            345   120       74\n",
       "5            157    56       32"
      ]
     },
     "execution_count": 45,
     "metadata": {},
     "output_type": "execute_result"
    }
   ],
   "source": [
    "df_group_suicide = df_group.loc[:,'think':'attempt']\n",
    "df_group_suicide"
   ]
  },
  {
   "cell_type": "code",
   "execution_count": 46,
   "metadata": {},
   "outputs": [
    {
     "data": {
      "text/plain": [
       "think      1193\n",
       "plan        610\n",
       "attempt     423\n",
       "dtype: int64"
      ]
     },
     "execution_count": 46,
     "metadata": {},
     "output_type": "execute_result"
    }
   ],
   "source": [
    "adolescent_suicide = adolescent_clean.loc[:,'think':'attempt']\n",
    "adolescent_suicide.sum()"
   ]
  },
  {
   "cell_type": "code",
   "execution_count": 47,
   "metadata": {},
   "outputs": [
    {
     "data": {
      "text/plain": [
       "think      0.654057\n",
       "plan       0.334430\n",
       "attempt    0.231908\n",
       "dtype: float64"
      ]
     },
     "execution_count": 47,
     "metadata": {},
     "output_type": "execute_result"
    }
   ],
   "source": [
    "adolescent_suicide.sum()/adolescent_suicide.count()"
   ]
  },
  {
   "cell_type": "code",
   "execution_count": 85,
   "metadata": {},
   "outputs": [
    {
     "data": {
      "text/plain": [
       "think      0.493259\n",
       "plan       0.192826\n",
       "attempt    0.120834\n",
       "dtype: float64"
      ]
     },
     "execution_count": 85,
     "metadata": {},
     "output_type": "execute_result"
    }
   ],
   "source": [
    "adult_suicide = adult_clean.loc[:,'think':'attempt']\n",
    "adult_suicide.sum()/adult_suicide.count()"
   ]
  },
  {
   "cell_type": "code",
   "execution_count": 60,
   "metadata": {},
   "outputs": [
    {
     "data": {
      "text/plain": [
       "think      0.567067\n",
       "plan       0.239913\n",
       "attempt    0.149945\n",
       "dtype: float64"
      ]
     },
     "execution_count": 60,
     "metadata": {},
     "output_type": "execute_result"
    }
   ],
   "source": [
    "age_group_2_suicide = age_group_2.loc[:,'think':'attempt']\n",
    "age_group_2_suicide.sum()/age_group_2_suicide.count()"
   ]
  },
  {
   "cell_type": "code",
   "execution_count": 59,
   "metadata": {},
   "outputs": [
    {
     "data": {
      "text/plain": [
       "think      0.469822\n",
       "plan       0.168047\n",
       "attempt    0.111243\n",
       "dtype: float64"
      ]
     },
     "execution_count": 59,
     "metadata": {},
     "output_type": "execute_result"
    }
   ],
   "source": [
    "age_group_3_suicide = age_group_3.loc[:,'think':'attempt']\n",
    "age_group_3_suicide.sum()/age_group_3_suicide.count()"
   ]
  },
  {
   "cell_type": "code",
   "execution_count": 58,
   "metadata": {},
   "outputs": [
    {
     "data": {
      "text/plain": [
       "think      0.422277\n",
       "plan       0.146879\n",
       "attempt    0.090575\n",
       "dtype: float64"
      ]
     },
     "execution_count": 58,
     "metadata": {},
     "output_type": "execute_result"
    }
   ],
   "source": [
    "age_group_4_suicide = age_group_4.loc[:,'think':'attempt']\n",
    "age_group_4_suicide.sum()/age_group_4_suicide.count()"
   ]
  },
  {
   "cell_type": "code",
   "execution_count": 61,
   "metadata": {},
   "outputs": [
    {
     "data": {
      "text/plain": [
       "think      0.360920\n",
       "plan       0.128736\n",
       "attempt    0.073563\n",
       "dtype: float64"
      ]
     },
     "execution_count": 61,
     "metadata": {},
     "output_type": "execute_result"
    }
   ],
   "source": [
    "age_group_5_suicide = age_group_5.loc[:,'think':'attempt']\n",
    "age_group_5_suicide.sum()/age_group_5_suicide.count()"
   ]
  }
 ],
 "metadata": {
  "kernelspec": {
   "display_name": "Python 3",
   "language": "python",
   "name": "python3"
  },
  "language_info": {
   "codemirror_mode": {
    "name": "ipython",
    "version": 3
   },
   "file_extension": ".py",
   "mimetype": "text/x-python",
   "name": "python",
   "nbconvert_exporter": "python",
   "pygments_lexer": "ipython3",
   "version": "3.7.7"
  }
 },
 "nbformat": 4,
 "nbformat_minor": 2
}
